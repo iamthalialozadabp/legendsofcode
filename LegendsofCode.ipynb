{
  "nbformat": 4,
  "nbformat_minor": 0,
  "metadata": {
    "colab": {
      "name": "LegendsofCode.ipynb",
      "provenance": [],
      "authorship_tag": "ABX9TyMz3144uTlBPFIzVACGcCfR",
      "include_colab_link": true
    },
    "kernelspec": {
      "name": "python3",
      "display_name": "Python 3"
    },
    "language_info": {
      "name": "python"
    }
  },
  "cells": [
    {
      "cell_type": "markdown",
      "metadata": {
        "id": "view-in-github",
        "colab_type": "text"
      },
      "source": [
        "<a href=\"https://colab.research.google.com/github/iamthalialozadabp/legendsofcode/blob/main/LegendsofCode.ipynb\" target=\"_parent\"><img src=\"https://colab.research.google.com/assets/colab-badge.svg\" alt=\"Open In Colab\"/></a>"
      ]
    },
    {
      "cell_type": "code",
      "source": [
        "def main():\n",
        "    print(\"MISIONES DE KONOBA\")\n",
        "    valores = int(input(\"¿Cuántos valores va a introducir en su cadena? \"))\n",
        "    if valores < 1:\n",
        "        print(\"¡Imposible!\")\n",
        "    else:\n",
        "        journin = int(input(\"Escriba su journin: \"))\n",
        "        for i in range(valores-1):\n",
        "            valores = int(input(f\"Escriba sus misiones: \"))\n",
        "        print(f\"Resultado de las misiones {valores}!\")\n",
        "\n",
        "\n",
        "if __name__ == \"__main__\":\n",
        "    main()"
      ],
      "metadata": {
        "id": "9E8mOzVlFdyt",
        "colab": {
          "base_uri": "https://localhost:8080/"
        },
        "outputId": "e8ee3a7b-8e32-4dc1-9aa4-19269b37bbab"
      },
      "execution_count": 27,
      "outputs": [
        {
          "output_type": "stream",
          "name": "stdout",
          "text": [
            "MISIONES DE KONOBA\n",
            "¿Cuántos valores va a introducir en su cadena? 5\n",
            "Escriba su journin: 2\n",
            "Escriba sus misiones: 1\n",
            "Escriba sus misiones: 5\n",
            "Escriba sus misiones: 6\n",
            "Escriba sus misiones: 10\n",
            "Resultado de las misiones 10!\n"
          ]
        }
      ]
    }
  ]
}